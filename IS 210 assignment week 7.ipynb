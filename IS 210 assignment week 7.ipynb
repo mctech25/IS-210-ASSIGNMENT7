{
 "cells": [
  {
   "cell_type": "code",
   "execution_count": null,
   "id": "625b6a6e",
   "metadata": {},
   "outputs": [],
   "source": [
    "# Task 01"
   ]
  },
  {
   "cell_type": "code",
   "execution_count": 5,
   "id": "ae6c4887",
   "metadata": {},
   "outputs": [
    {
     "name": "stdout",
     "output_type": "stream",
     "text": [
      "What is your blood pressure?120\n",
      "Your status is currently: Warning!\n"
     ]
    }
   ],
   "source": [
    "BP_STATUS = int(input(\"What is your blood pressure?\"))\n",
    "status = \"\"\n",
    "if input_bp <= 89:\n",
    "    BP_STATUS = \"Low\"\n",
    "elif 90 <= input_bp <= 119:\n",
    "    BP_STATUS = \"ideal\"\n",
    "elif 120 <= input_bp <= 139:\n",
    "    BP_STATUS = \"Warning\"\n",
    "elif 140 <= input_bp <= 159:\n",
    "    BP_STATUS = \"High\"\n",
    "else:\n",
    "    BP_STATUS = \"Emergency\"\n",
    "print(\"Your status is currently: {}!\".format(BP_STATUS))"
   ]
  },
  {
   "cell_type": "code",
   "execution_count": null,
   "id": "df1a2547",
   "metadata": {},
   "outputs": [],
   "source": []
  }
 ],
 "metadata": {
  "kernelspec": {
   "display_name": "Python 3",
   "language": "python",
   "name": "python3"
  },
  "language_info": {
   "codemirror_mode": {
    "name": "ipython",
    "version": 3
   },
   "file_extension": ".py",
   "mimetype": "text/x-python",
   "name": "python",
   "nbconvert_exporter": "python",
   "pygments_lexer": "ipython3",
   "version": "3.8.10"
  }
 },
 "nbformat": 4,
 "nbformat_minor": 5
}
